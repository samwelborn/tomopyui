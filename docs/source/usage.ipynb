{
 "cells": [
  {
   "cell_type": "markdown",
   "metadata": {},
   "source": [
    "# Usage"
   ]
  },
  {
   "cell_type": "code",
   "execution_count": null,
   "metadata": {},
   "outputs": [],
   "source": [
    "import tomopyui.widgets.main as main\n",
    "\n",
    "raw_data_type:str = \"SSRL_62C\"\n",
    "dashboard_output, dashboard, file_import, prep, center, align, recon, dataexplorer = main.create_dashboard(raw_data_type) # can be \"SSRL_62C\", \"ALS_832\", \"APS\"\n",
    "dashboard_output"
   ]
  },
  {
   "cell_type": "markdown",
   "metadata": {},
   "source": [
    "You can change the `raw_data_type` for different raw data importers."
   ]
  },
  {
   "cell_type": "markdown",
   "metadata": {},
   "source": [
    "## Getting your own data in"
   ]
  },
  {
   "cell_type": "markdown",
   "metadata": {},
   "source": [
    "You will have to create your own data import widget to get raw data into tomopyui. You can look at the following pull request for prior art here: [#41](https://github.com/swelborn/tomopyui/pull/41)"
   ]
  },
  {
   "cell_type": "markdown",
   "metadata": {},
   "source": [
    "## Getting at the imported data"
   ]
  },
  {
   "cell_type": "code",
   "execution_count": null,
   "metadata": {},
   "outputs": [],
   "source": [
    "def print_obj_dict(obj, skip_keys=[]):\n",
    "    for k,v in obj.__dict__.items():\n",
    "        if k in skip_keys:\n",
    "            continue\n",
    "        print(f\"{k}: {v}\")\n",
    "\n",
    "proj = file_import.projections\n",
    "print_obj_dict(proj, [\"_data\", \"data_ds\"])"
   ]
  },
  {
   "cell_type": "markdown",
   "metadata": {},
   "source": [
    "## Information from other objects (you probably don't care as much about this)"
   ]
  },
  {
   "cell_type": "code",
   "execution_count": null,
   "metadata": {},
   "outputs": [],
   "source": [
    "# This has references to the other objects (prep, center, align, recon)\n",
    "print_obj_dict(file_import, [\"viewer_hbox\", \"raw_accordion\", \"prenorm_accordion\", \"tab\"])"
   ]
  },
  {
   "cell_type": "code",
   "execution_count": null,
   "metadata": {},
   "outputs": [],
   "source": [
    "print_obj_dict(prep, [\"viewer_hbox\", \"viewer_accordion\", \"tab\"])"
   ]
  },
  {
   "cell_type": "code",
   "execution_count": null,
   "metadata": {},
   "outputs": [],
   "source": [
    "print_obj_dict(center, [\"viewer_hbox\", \"manual_center_vbox\", \"manual_center_accordion\", \"tab\"])"
   ]
  },
  {
   "cell_type": "code",
   "execution_count": null,
   "metadata": {},
   "outputs": [],
   "source": [
    "print_obj_dict(align, [\"viewer_hbox\", \"viewer_accordion\", \"tab\"])"
   ]
  },
  {
   "cell_type": "code",
   "execution_count": null,
   "metadata": {},
   "outputs": [],
   "source": [
    "print_obj_dict(recon, [\"viewer_hbox\", \"viewer_accordion\", \"tab\"])"
   ]
  }
 ],
 "metadata": {
  "kernelspec": {
   "display_name": "tomopyui-docs-20240223-new",
   "language": "python",
   "name": "python3"
  },
  "language_info": {
   "codemirror_mode": {
    "name": "ipython",
    "version": 3
   },
   "file_extension": ".py",
   "mimetype": "text/x-python",
   "name": "python",
   "nbconvert_exporter": "python",
   "pygments_lexer": "ipython3",
   "version": "3.11.8"
  }
 },
 "nbformat": 4,
 "nbformat_minor": 2
}
