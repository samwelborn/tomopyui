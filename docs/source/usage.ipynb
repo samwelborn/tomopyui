{
 "cells": [
  {
   "cell_type": "markdown",
   "metadata": {},
   "source": [
    "# Usage"
   ]
  },
  {
   "cell_type": "code",
   "execution_count": null,
   "metadata": {},
   "outputs": [],
   "source": [
    "import tomopyui.widgets.main as main\n",
    "\n",
    "raw_data_type:str = \"SSRL_62C\"\n",
    "dashboard_output, dashboard, file_import, prep, center, align, recon, dataexplorer = main.create_dashboard(raw_data_type) # can be \"SSRL_62C\", \"ALS_832\", \"APS\"\n",
    "dashboard_output"
   ]
  },
  {
   "cell_type": "markdown",
   "metadata": {},
   "source": [
    "You can change the raw_data_type for different raw data importers."
   ]
  },
  {
   "cell_type": "markdown",
   "metadata": {},
   "source": [
    "## Getting your own data in"
   ]
  },
  {
   "cell_type": "markdown",
   "metadata": {},
   "source": [
    "You will have to create your own data import widget to get raw data into tomopyui. You can look at the following pull request for prior art here: [#41](https://github.com/swelborn/tomopyui/pull/41)"
   ]
  },
  {
   "cell_type": "markdown",
   "metadata": {},
   "source": [
    "## Getting at the imported data"
   ]
  },
  {
   "cell_type": "code",
   "execution_count": null,
   "metadata": {},
   "outputs": [],
   "source": [
    "def print_obj_dict(obj, skip_keys=[]):\n",
    "    for k,v in obj.__dict__.items():\n",
    "        if k in skip_keys:\n",
    "            continue\n",
    "        print(f\"{k}: {v}\")\n",
    "\n",
    "proj = file_import.projections\n",
    "print_obj_dict(proj, [\"_data\", \"data_ds\"])"
   ]
  },
  {
   "cell_type": "markdown",
   "metadata": {},
   "source": [
    "## Information from other objects (you probably don't care as much about this)"
   ]
  },
  {
   "cell_type": "code",
   "execution_count": 13,
   "metadata": {},
   "outputs": [
    {
     "name": "stdout",
     "output_type": "stream",
     "text": [
      "use_raw_button: <tomopyui.widgets.helpers.ReactiveTextButton object at 0x10adc48d0>\n",
      "use_prenorm_button: <tomopyui.widgets.helpers.ReactiveTextButton object at 0x289b02610>\n",
      "prenorm_uploader: <tomopyui.widgets.imports.PrenormUploader object at 0x289b03990>\n",
      "projections: <tomopyui.backend.io.Projections_Prenormalized object at 0x289b81590>\n",
      "uploader: <tomopyui.widgets.imports.PrenormUploader object at 0x289b03990>\n",
      "log: <Logger tomopyui.widgets.imports (INFO)>\n",
      "log_handler: <OutputWidgetHandler (NOTSET)>\n",
      "angles_from_filenames: True\n",
      "raw_uploader: <tomopyui.widgets.imports.RawUploader_SSRL62C object at 0x289b62450>\n",
      "switch_data_buttons: HBox(children=(Button(description='Click to use raw/normalized data from the Import tab.', layout=Layout(align_items='stretch', height='auto', width='auto'), style=ButtonStyle()), Button(button_style='success', description='Prenormalized data from Import tab in use for alignment/reconstruction.', icon='check-square', layout=Layout(align_items='stretch', height='auto', width='auto'), style=ButtonStyle())), layout=Layout(justify_content='center'))\n",
      "Prep: <tomopyui.widgets.prep.Prep object at 0x289b1fd10>\n",
      "Center: <tomopyui.widgets.center.Center object at 0x289cf2410>\n",
      "Align: <tomopyui.widgets.analysis.Align object at 0x289db53d0>\n",
      "Recon: <tomopyui.widgets.analysis.Recon object at 0x289d696d0>\n",
      "use_raw: False\n",
      "use_prenorm: True\n"
     ]
    }
   ],
   "source": [
    "# This has references to the other objects (prep, center, align, recon)\n",
    "print_obj_dict(file_import, [\"viewer_hbox\", \"raw_accordion\", \"prenorm_accordion\", \"tab\"])"
   ]
  },
  {
   "cell_type": "code",
   "execution_count": 9,
   "metadata": {},
   "outputs": [
    {
     "name": "stdout",
     "output_type": "stream",
     "text": [
      "Import: <tomopyui.widgets.imports.Import_SSRL62C object at 0x10ac81910>\n",
      "projections: <tomopyui.backend.io.Projections_Prenormalized object at 0x289b81590>\n",
      "altered_projections: <tomopyui.backend.io.Projections_Child object at 0x289c32850>\n",
      "prep_list: []\n",
      "accordions_open: False\n",
      "preview_only: False\n",
      "tomocorr_median_filter_size: 3\n",
      "tomocorr_gaussian_filter_order: 0\n",
      "tomocorr_gaussian_filter_sigma: 3\n",
      "save_on: False\n",
      "metadata: <tomopyui.backend.io.Metadata_Prep object at 0x289b29f50>\n",
      "button_layout: Layout(height='40px', width='45px')\n",
      "imported_viewer: <tomopyui.widgets.view.BqImViewer_Projections_Parent object at 0x289b290d0>\n",
      "altered_viewer: <tomopyui.widgets.view.BqImViewer_Projections_Child object at 0x289c5d810>\n",
      "import_plot_header: Label(value='Imported Projections', style=LabelStyle(font_size='22px', font_variant='small-caps', font_weight='bold'))\n",
      "altered_plot_header: Label(value='Altered Projections', style=LabelStyle(font_size='22px', font_variant='small-caps', font_weight='bold'))\n",
      "prep_list_header: Label(value='Methods', style=LabelStyle(font_size='22px', font_variant='small-caps', font_weight='bold'))\n",
      "prep_list_select: Select(disabled=True, options=('Method 1', 'Method 2', 'Method 3', 'Method 4', 'Method 5'), rows=10, value='Method 1')\n",
      "up_button: Button(disabled=True, icon='arrow-up', layout=Layout(height='40px', width='45px'), style=ButtonStyle(font_size='22px'), tooltip='Move method up.')\n",
      "down_button: Button(disabled=True, icon='arrow-down', layout=Layout(height='40px', width='45px'), style=ButtonStyle(font_size='22px'), tooltip='Move method down.')\n",
      "remove_method_button: Button(disabled=True, icon='minus-square', layout=Layout(height='40px', width='45px'), style=ButtonStyle(font_size='22px'), tooltip='Remove selected method.')\n",
      "start_button: Button(button_style='info', disabled=True, icon='running', layout=Layout(height='40px', width='45px'), style=ButtonStyle(font_size='22px'), tooltip='Run the list above. This will save a subdirectory with your processed images.')\n",
      "preview_only_button: Button(disabled=True, icon='glasses', layout=Layout(height='40px', width='45px'), style=ButtonStyle(font_size='22px'), tooltip='Run the currently selected image through your list of methods. This will not run the stack or save data.')\n",
      "save_on_button: Button(disabled=True, icon='file-export', layout=Layout(height='40px', width='45px'), style=ButtonStyle(font_size='22px'), tooltip='Turn this on to save the data when you click the run button.')\n",
      "methods_button_box: VBox(children=(HBox(children=(Button(disabled=True, icon='arrow-up', layout=Layout(height='40px', width='45px'), style=ButtonStyle(font_size='22px'), tooltip='Move method up.'), Button(disabled=True, icon='arrow-down', layout=Layout(height='40px', width='45px'), style=ButtonStyle(font_size='22px'), tooltip='Move method down.'), Button(disabled=True, icon='minus-square', layout=Layout(height='40px', width='45px'), style=ButtonStyle(font_size='22px'), tooltip='Remove selected method.'))), HBox(children=(Button(disabled=True, icon='glasses', layout=Layout(height='40px', width='45px'), style=ButtonStyle(font_size='22px'), tooltip='Run the currently selected image through your list of methods. This will not run the stack or save data.'), Button(button_style='info', disabled=True, icon='running', layout=Layout(height='40px', width='45px'), style=ButtonStyle(font_size='22px'), tooltip='Run the list above. This will save a subdirectory with your processed images.'), Button(disabled=True, icon='file-export', layout=Layout(height='40px', width='45px'), style=ButtonStyle(font_size='22px'), tooltip='Turn this on to save the data when you click the run button.')))))\n",
      "shifts_uploader: <tomopyui.widgets.imports.ShiftsUploader object at 0x289ca1690>\n",
      "shift_x_header: Label(value='Shift in X', style=LabelStyle(font_size='22px', font_variant='small-caps', font_weight='bold'))\n",
      "shifts_sx_select: Select(disabled=True, options=(), rows=10, value=None)\n",
      "shift_y_header: Label(value='Shift in Y', style=LabelStyle(font_size='22px', font_variant='small-caps', font_weight='bold'))\n",
      "shifts_sy_select: Select(disabled=True, options=(), rows=10, value=None)\n",
      "shifts_filechooser_label: Label(value='Filechooser', style=LabelStyle(font_size='22px', font_variant='small-caps', font_weight='bold'))\n",
      "buttons_to_disable: [Select(disabled=True, options=('Method 1', 'Method 2', 'Method 3', 'Method 4', 'Method 5'), rows=10, value='Method 1'), Button(button_style='info', disabled=True, icon='running', layout=Layout(height='40px', width='45px'), style=ButtonStyle(font_size='22px'), tooltip='Run the list above. This will save a subdirectory with your processed images.'), Button(disabled=True, icon='arrow-up', layout=Layout(height='40px', width='45px'), style=ButtonStyle(font_size='22px'), tooltip='Move method up.'), Button(disabled=True, icon='arrow-down', layout=Layout(height='40px', width='45px'), style=ButtonStyle(font_size='22px'), tooltip='Move method down.'), Button(disabled=True, icon='minus-square', layout=Layout(height='40px', width='45px'), style=ButtonStyle(font_size='22px'), tooltip='Remove selected method.'), Button(button_style='info', disabled=True, icon='running', layout=Layout(height='40px', width='45px'), style=ButtonStyle(font_size='22px'), tooltip='Run the list above. This will save a subdirectory with your processed images.'), Button(disabled=True, icon='glasses', layout=Layout(height='40px', width='45px'), style=ButtonStyle(font_size='22px'), tooltip='Run the currently selected image through your list of methods. This will not run the stack or save data.'), Button(disabled=True, icon='file-export', layout=Layout(height='40px', width='45px'), style=ButtonStyle(font_size='22px'), tooltip='Turn this on to save the data when you click the run button.')]\n",
      "tomocorr_median_filter_button: Button(description='Median Filter', icon='filter', layout=Layout(width='auto'), style=ButtonStyle(), tooltip='Add a median filter to your data.')\n",
      "tomocorr_median_filter_size_dd: Dropdown(description='Size', index=1, options=(('1', 1), ('3', 3), ('5', 5), ('7', 7), ('9', 9), ('11', 11), ('13', 13), ('15', 15), ('17', 17), ('19', 19), ('21', 21), ('23', 23)), value=3)\n",
      "tomocorr_median_filter_box: HBox(children=(Button(description='Median Filter', icon='filter', layout=Layout(width='auto'), style=ButtonStyle(), tooltip='Add a median filter to your data.'), Dropdown(description='Size', index=1, options=(('1', 1), ('3', 3), ('5', 5), ('7', 7), ('9', 9), ('11', 11), ('13', 13), ('15', 15), ('17', 17), ('19', 19), ('21', 21), ('23', 23)), value=3)))\n",
      "tomocorr_gaussian_filter_button: Button(description='Gaussian Filter', icon='filter', layout=Layout(width='auto'), style=ButtonStyle(), tooltip='Add a gaussian filter to your data.')\n",
      "tomocorr_gaussian_filter_sigma_tb: BoundedFloatText(value=3.0, description='σ (stdv)', max=25.0)\n",
      "tomocorr_gaussian_filter_order_dd: Dropdown(description='Order', options=(('Zeroth', 0), ('First', 1), ('Second', 2), ('Third', 3)), value=0)\n",
      "tomocorr_gaussian_filter_box: HBox(children=(Button(description='Gaussian Filter', icon='filter', layout=Layout(width='auto'), style=ButtonStyle(), tooltip='Add a gaussian filter to your data.'), BoundedFloatText(value=3.0, description='σ (stdv)', max=25.0), Dropdown(description='Order', options=(('Zeroth', 0), ('First', 1), ('Second', 2), ('Third', 3)), value=0)))\n",
      "remove_data_outside_button: Button(description='Set data = 0 outside of current histogram range.', layout=Layout(height='auto', width='auto'), style=ButtonStyle())\n",
      "renormalize_by_roi_button: Button(button_style='info', description='Click to normalize by ROI.', layout=Layout(height='auto', width='auto'), style=ButtonStyle())\n",
      "roi_buttons_box: VBox(children=(Button(description='Set data = 0 outside of current histogram range.', layout=Layout(height='auto', width='auto'), style=ButtonStyle()), Button(button_style='info', description='Click to normalize by ROI.', layout=Layout(height='auto', width='auto'), style=ButtonStyle())))\n",
      "prep_buttons: [HBox(children=(Button(description='Median Filter', icon='filter', layout=Layout(width='auto'), style=ButtonStyle(), tooltip='Add a median filter to your data.'), Dropdown(description='Size', index=1, options=(('1', 1), ('3', 3), ('5', 5), ('7', 7), ('9', 9), ('11', 11), ('13', 13), ('15', 15), ('17', 17), ('19', 19), ('21', 21), ('23', 23)), value=3))), HBox(children=(Button(description='Gaussian Filter', icon='filter', layout=Layout(width='auto'), style=ButtonStyle(), tooltip='Add a gaussian filter to your data.'), BoundedFloatText(value=3.0, description='σ (stdv)', max=25.0), Dropdown(description='Order', options=(('Zeroth', 0), ('First', 1), ('Second', 2), ('Third', 3)), value=0))), VBox(children=(Button(description='Set data = 0 outside of current histogram range.', layout=Layout(height='auto', width='auto'), style=ButtonStyle()), Button(button_style='info', description='Click to normalize by ROI.', layout=Layout(height='auto', width='auto'), style=ButtonStyle())))]\n",
      "top_of_box_hb: HBox(children=(HBox(children=(Button(description='Click to use raw/normalized data from the Import tab.', layout=Layout(align_items='stretch', height='auto', width='auto'), style=ButtonStyle()), Button(button_style='success', description='Prenormalized data from Import tab in use for alignment/reconstruction.', icon='check-square', layout=Layout(align_items='stretch', height='auto', width='auto'), style=ButtonStyle())), layout=Layout(justify_content='center')),), layout=Layout(justify_content='flex-start', width='auto'))\n",
      "prep_buttons_hbox: VBox(children=(HBox(children=(Button(description='Median Filter', icon='filter', layout=Layout(width='auto'), style=ButtonStyle(), tooltip='Add a median filter to your data.'), Dropdown(description='Size', index=1, options=(('1', 1), ('3', 3), ('5', 5), ('7', 7), ('9', 9), ('11', 11), ('13', 13), ('15', 15), ('17', 17), ('19', 19), ('21', 21), ('23', 23)), value=3))), HBox(children=(Button(description='Gaussian Filter', icon='filter', layout=Layout(width='auto'), style=ButtonStyle(), tooltip='Add a gaussian filter to your data.'), BoundedFloatText(value=3.0, description='σ (stdv)', max=25.0), Dropdown(description='Order', options=(('Zeroth', 0), ('First', 1), ('Second', 2), ('Third', 3)), value=0))), VBox(children=(Button(description='Set data = 0 outside of current histogram range.', layout=Layout(height='auto', width='auto'), style=ButtonStyle()), Button(button_style='info', description='Click to normalize by ROI.', layout=Layout(height='auto', width='auto'), style=ButtonStyle())))), layout=Layout(justify_content='center'))\n",
      "prep_buttons_accordion: Accordion(children=(VBox(children=(HBox(children=(Button(description='Median Filter', icon='filter', layout=Layout(width='auto'), style=ButtonStyle(), tooltip='Add a median filter to your data.'), Dropdown(description='Size', index=1, options=(('1', 1), ('3', 3), ('5', 5), ('7', 7), ('9', 9), ('11', 11), ('13', 13), ('15', 15), ('17', 17), ('19', 19), ('21', 21), ('23', 23)), value=3))), HBox(children=(Button(description='Gaussian Filter', icon='filter', layout=Layout(width='auto'), style=ButtonStyle(), tooltip='Add a gaussian filter to your data.'), BoundedFloatText(value=3.0, description='σ (stdv)', max=25.0), Dropdown(description='Order', options=(('Zeroth', 0), ('First', 1), ('Second', 2), ('Third', 3)), value=0))), VBox(children=(Button(description='Set data = 0 outside of current histogram range.', layout=Layout(height='auto', width='auto'), style=ButtonStyle()), Button(button_style='info', description='Click to normalize by ROI.', layout=Layout(height='auto', width='auto'), style=ButtonStyle())))), layout=Layout(justify_content='center')),), titles=('Add Preprocessing Methods',))\n",
      "shifts_box: HBox(children=(VBox(children=(Label(value='Quick path search:'), Textarea(value='', layout=Layout(align_items='stretch'), placeholder='Z:\\\\swelborn', style=TextStyle(description_width='auto')))), VBox(children=(Label(value='Filechooser', style=LabelStyle(font_size='22px', font_variant='small-caps', font_weight='bold')), FileChooser(path='/Users/swelborn/Documents/gits/tomopyui/docs/source', filename='', title='Import shifts: ', show_hidden=False, select_desc='Select', change_desc='Change', select_default=False, show_only_dirs=False, dir_icon_append=False, dir_icon='📁 '))), VBox(children=(Label(value='Shift in X', style=LabelStyle(font_size='22px', font_variant='small-caps', font_weight='bold')), Select(disabled=True, options=(), rows=10, value=None))), VBox(children=(Label(value='Shift in Y', style=LabelStyle(font_size='22px', font_variant='small-caps', font_weight='bold')), Select(disabled=True, options=(), rows=10, value=None))), Button(disabled=True, icon='upload', layout=Layout(height='86px', width='75px'), style=ButtonStyle(font_size='35px'), tooltip='Load your data into memory')), layout=Layout(justify_content='center'))\n",
      "shifts_accordion: Accordion(children=(HBox(children=(VBox(children=(Label(value='Quick path search:'), Textarea(value='', layout=Layout(align_items='stretch'), placeholder='Z:\\\\swelborn', style=TextStyle(description_width='auto')))), VBox(children=(Label(value='Filechooser', style=LabelStyle(font_size='22px', font_variant='small-caps', font_weight='bold')), FileChooser(path='/Users/swelborn/Documents/gits/tomopyui/docs/source', filename='', title='Import shifts: ', show_hidden=False, select_desc='Select', change_desc='Change', select_default=False, show_only_dirs=False, dir_icon_append=False, dir_icon='📁 '))), VBox(children=(Label(value='Shift in X', style=LabelStyle(font_size='22px', font_variant='small-caps', font_weight='bold')), Select(disabled=True, options=(), rows=10, value=None))), VBox(children=(Label(value='Shift in Y', style=LabelStyle(font_size='22px', font_variant='small-caps', font_weight='bold')), Select(disabled=True, options=(), rows=10, value=None))), Button(disabled=True, icon='upload', layout=Layout(height='86px', width='75px'), style=ButtonStyle(font_size='35px'), tooltip='Load your data into memory')), layout=Layout(justify_content='center')),), titles=('Upload shifts from prior alignments',))\n"
     ]
    }
   ],
   "source": [
    "print_obj_dict(prep, [\"viewer_hbox\", \"viewer_accordion\", \"tab\"])"
   ]
  },
  {
   "cell_type": "code",
   "execution_count": null,
   "metadata": {},
   "outputs": [],
   "source": [
    "print_obj_dict(center, [\"viewer_hbox\", \"manual_center_vbox\", \"manual_center_accordion\", \"tab\"])"
   ]
  },
  {
   "cell_type": "code",
   "execution_count": null,
   "metadata": {},
   "outputs": [],
   "source": [
    "print_obj_dict(align, [\"viewer_hbox\", \"viewer_accordion\", \"tab\"])"
   ]
  },
  {
   "cell_type": "code",
   "execution_count": null,
   "metadata": {},
   "outputs": [],
   "source": [
    "print_obj_dict(recon, [\"viewer_hbox\", \"viewer_accordion\", \"tab\"])"
   ]
  }
 ],
 "metadata": {
  "kernelspec": {
   "display_name": "tomopyui-docs-20240223-new",
   "language": "python",
   "name": "python3"
  },
  "language_info": {
   "codemirror_mode": {
    "name": "ipython",
    "version": 3
   },
   "file_extension": ".py",
   "mimetype": "text/x-python",
   "name": "python",
   "nbconvert_exporter": "python",
   "pygments_lexer": "ipython3",
   "version": "3.11.8"
  }
 },
 "nbformat": 4,
 "nbformat_minor": 2
}
