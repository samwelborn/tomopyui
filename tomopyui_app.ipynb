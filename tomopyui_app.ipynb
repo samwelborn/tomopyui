{
 "cells": [
  {
   "cell_type": "code",
   "execution_count": 1,
   "id": "2ab4bfd4-e0b6-41f1-99b8-8b5a77fa0e29",
   "metadata": {
    "tags": []
   },
   "outputs": [
    {
     "name": "stderr",
     "output_type": "stream",
     "text": [
      "Warning: dxfile module not found\n",
      "Warning: netCDF4 module not found\n",
      "spefile module not found\n",
      "netCDF4 module not found\n",
      "EdfFile module not found\n",
      "spefile module not found\n",
      "netCDF4 module not found\n",
      "EdfFile module not found\n"
     ]
    },
    {
     "data": {
      "application/vnd.jupyter.widget-view+json": {
       "model_id": "87fc75c80d874707afb1e9e8577e70c5",
       "version_major": 2,
       "version_minor": 0
      },
      "text/plain": [
       "Output()"
      ]
     },
     "execution_count": 1,
     "metadata": {},
     "output_type": "execute_result"
    }
   ],
   "source": [
    "%reload_ext autoreload\n",
    "%autoreload 2\n",
    "import tomopyui.widgets.main as main\n",
    "dashboard_output, dashboard, file_import, prep, center, align, recon, dataexplorer = main.create_dashboard(\"APS\") # can be \"SSRL_62C\", \"ALS_832\", \"APS\"\n",
    "dashboard_output"
   ]
  },
  {
   "cell_type": "code",
   "execution_count": null,
   "id": "3e464f3e-100e-4017-b35d-f3f54124af64",
   "metadata": {},
   "outputs": [],
   "source": []
  }
 ],
 "metadata": {
  "kernelspec": {
   "display_name": "Python 3 (ipykernel)",
   "language": "python",
   "name": "python3"
  },
  "language_info": {
   "codemirror_mode": {
    "name": "ipython",
    "version": 3
   },
   "file_extension": ".py",
   "mimetype": "text/x-python",
   "name": "python",
   "nbconvert_exporter": "python",
   "pygments_lexer": "ipython3",
   "version": "3.9.7"
  }
 },
 "nbformat": 4,
 "nbformat_minor": 5
}
