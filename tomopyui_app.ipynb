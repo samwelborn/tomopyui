{
 "cells": [
  {
   "cell_type": "code",
   "execution_count": null,
   "id": "2ab4bfd4-e0b6-41f1-99b8-8b5a77fa0e29",
   "metadata": {},
   "outputs": [],
   "source": [
    "%reload_ext autoreload\n",
    "%autoreload 2\n",
    "import tomopyui.widgets.main as main\n",
    "\n",
    "dashboard_output, file_import, center, align, recon, dataexplorer = main.create_dashboard()\n",
    "dashboard_output"
   ]
  },
  {
   "cell_type": "code",
   "execution_count": null,
   "id": "99cf3b5b-7d20-4df1-aa5f-60b4740857f4",
   "metadata": {},
   "outputs": [],
   "source": [
    "file_import.tab"
   ]
  },
  {
   "cell_type": "code",
   "execution_count": null,
   "id": "616a9cbc-d212-4796-9658-94ecc513af10",
   "metadata": {},
   "outputs": [],
   "source": [
    "center.tab"
   ]
  },
  {
   "cell_type": "code",
   "execution_count": null,
   "id": "1831582a-db74-434d-b8e9-f48b7b1f663f",
   "metadata": {},
   "outputs": [],
   "source": [
    "align.tab"
   ]
  },
  {
   "cell_type": "code",
   "execution_count": null,
   "id": "5a0bc527-ebe7-465a-8b97-fb68eeb69568",
   "metadata": {},
   "outputs": [],
   "source": [
    "recon.tab"
   ]
  },
  {
   "cell_type": "code",
   "execution_count": null,
   "id": "464a7828-a879-43ca-b0e6-109ad0bf463f",
   "metadata": {},
   "outputs": [],
   "source": [
    "dataexplorer.tab"
   ]
  },
  {
   "cell_type": "code",
   "execution_count": null,
   "id": "2a5ac463-4c9b-4270-98ec-6b420694fafe",
   "metadata": {},
   "outputs": [],
   "source": []
  }
 ],
 "metadata": {
  "kernelspec": {
   "display_name": "Python 3 (ipykernel)",
   "language": "python",
   "name": "python3"
  },
  "language_info": {
   "codemirror_mode": {
    "name": "ipython",
    "version": 3
   },
   "file_extension": ".py",
   "mimetype": "text/x-python",
   "name": "python",
   "nbconvert_exporter": "python",
   "pygments_lexer": "ipython3",
   "version": "3.9.10"
  }
 },
 "nbformat": 4,
 "nbformat_minor": 5
}
