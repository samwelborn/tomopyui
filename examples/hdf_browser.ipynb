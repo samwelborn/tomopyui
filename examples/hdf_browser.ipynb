{
 "cells": [
  {
   "cell_type": "markdown",
   "id": "5a2d2b48-2857-430c-994a-1d738988577f",
   "metadata": {},
   "source": [
    "# Look at your datasets using the HDF5 Uploader"
   ]
  },
  {
   "cell_type": "code",
   "execution_count": 26,
   "id": "1acfcb37-2ace-4aba-b197-fa1883439371",
   "metadata": {},
   "outputs": [],
   "source": [
    "from tomopyui.backend.io_multienergy import MultiEnergyProjections\n",
    "import pathlib\n",
    "prj = MultiEnergyProjections()\n",
    "folder = pathlib.Path(r\"E:\\Sam_Welborn\\20220620_Welborn\\Pristine\\all_energies\\test\")\n",
    "c = prj.get_folders(b)\n",
    "hdf_align = pathlib.Path(r\"E:\\Sam_Welborn\\20220620_Welborn\\Pristine\\all_energies\\08375.00eV\\20220805-165339-alignment\\20220805-1654-SIRT_3D\\20220805-1709-alignment\\20220805-1714-SIRT_CUDA\\normalized_projections.hdf5\")\n",
    "prj.compile_energies(c, hdf_align, folder / \"test.hdf5\")"
   ]
  },
  {
   "cell_type": "code",
   "execution_count": 2,
   "id": "6a17bd66-b0f5-4b9b-8315-3fc9171f2d04",
   "metadata": {},
   "outputs": [
    {
     "data": {
      "application/vnd.jupyter.widget-view+json": {
       "model_id": "01e7db890449428bacbbaf6e5b31cc13",
       "version_major": 2,
       "version_minor": 0
      },
      "text/plain": [
       "HBox(children=(VBox(children=(HBox(children=(Button(icon='redo', layout=Layout(height='40px', width='45px'), s…"
      ]
     },
     "execution_count": 2,
     "metadata": {},
     "output_type": "execute_result"
    }
   ],
   "source": [
    "%reload_ext autoreload\n",
    "%autoreload 2\n",
    "from tomopyui.widgets.hdf_imports import HDF5_GeneralUploader\n",
    "uploader = HDF5_GeneralUploader() \n",
    "uploader.create_app()\n",
    "uploader.app"
   ]
  },
  {
   "cell_type": "code",
   "execution_count": 8,
   "id": "25100d15-8842-4e78-9cd3-32cb5fb3608c",
   "metadata": {},
   "outputs": [],
   "source": [
    "%reload_ext autoreload\n",
    "%autoreload 2\n",
    "from tomopyui.widgets.hdf_imports import HDF5_GeneralUploader"
   ]
  },
  {
   "cell_type": "code",
   "execution_count": 10,
   "id": "49b47af4-7576-461d-bd4a-a50eb9a32b3f",
   "metadata": {},
   "outputs": [
    {
     "data": {
      "text/plain": [
       "<HDF5 group \"/energies/07734.00/process/downsampled\" (3 members)>"
      ]
     },
     "execution_count": 10,
     "metadata": {},
     "output_type": "execute_result"
    }
   ],
   "source": [
    "uploader.hdf_handler.nearest_process[\"downsampled\"]"
   ]
  },
  {
   "cell_type": "code",
   "execution_count": 1,
   "id": "2bb797d2-08a2-4c3b-9405-ec679780aa5a",
   "metadata": {
    "tags": []
   },
   "outputs": [
    {
     "data": {
      "application/vnd.jupyter.widget-view+json": {
       "model_id": "d7a384073df94785ac25186404c50e1c",
       "version_major": 2,
       "version_minor": 0
      },
      "text/plain": [
       "VBox(children=(HBox(children=(VBox(children=(Label(value='Shifted High Energy Projections', style=LabelStyle(f…"
      ]
     },
     "execution_count": 1,
     "metadata": {},
     "output_type": "execute_result"
    }
   ],
   "source": []
  },
  {
   "cell_type": "code",
   "execution_count": 6,
   "id": "dfdf3cc2-c0ea-42de-a7d7-9fa14ce9303e",
   "metadata": {},
   "outputs": [],
   "source": [
    "from tomopyui.widgets.tools import MultiEnergyAlignmentTool"
   ]
  },
  {
   "cell_type": "code",
   "execution_count": 4,
   "id": "a4f6dd7d-366d-4fd9-9051-fccde4f4983b",
   "metadata": {},
   "outputs": [
    {
     "data": {
      "text/plain": [
       "<tomopyui.backend.io.Projections_Prenormalized at 0x1cebfcf8be0>"
      ]
     },
     "execution_count": 4,
     "metadata": {},
     "output_type": "execute_result"
    }
   ],
   "source": [
    "a.high_e_viewer.projections"
   ]
  },
  {
   "cell_type": "code",
   "execution_count": 5,
   "id": "9fc6bcee-224f-4764-8c50-b9181bad986e",
   "metadata": {},
   "outputs": [
    {
     "data": {
      "text/plain": [
       "<tomopyui.backend.io.Projections_Prenormalized at 0x1cebfcd7400>"
      ]
     },
     "execution_count": 5,
     "metadata": {},
     "output_type": "execute_result"
    }
   ],
   "source": [
    "a.low_e_viewer.projections"
   ]
  },
  {
   "cell_type": "code",
   "execution_count": null,
   "id": "ac363d83-ce84-44c3-987e-080b31a0007c",
   "metadata": {},
   "outputs": [],
   "source": []
  }
 ],
 "metadata": {
  "kernelspec": {
   "display_name": "Python 3 (ipykernel)",
   "language": "python",
   "name": "python3"
  },
  "language_info": {
   "codemirror_mode": {
    "name": "ipython",
    "version": 3
   },
   "file_extension": ".py",
   "mimetype": "text/x-python",
   "name": "python",
   "nbconvert_exporter": "python",
   "pygments_lexer": "ipython3",
   "version": "3.9.12"
  }
 },
 "nbformat": 4,
 "nbformat_minor": 5
}
