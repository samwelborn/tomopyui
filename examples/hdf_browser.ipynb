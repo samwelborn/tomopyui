{
 "cells": [
  {
   "cell_type": "markdown",
   "id": "5a2d2b48-2857-430c-994a-1d738988577f",
   "metadata": {},
   "source": [
    "# Look at your datasets using the HDF5 Uploader"
   ]
  },
  {
   "cell_type": "code",
   "execution_count": 1,
   "id": "6a17bd66-b0f5-4b9b-8315-3fc9171f2d04",
   "metadata": {},
   "outputs": [
    {
     "data": {
      "application/vnd.jupyter.widget-view+json": {
       "model_id": "78018b55a5784823bea3b9195a93082d",
       "version_major": 2,
       "version_minor": 0
      },
      "text/plain": [
       "HBox(children=(VBox(children=(HBox(children=(Button(icon='redo', layout=Layout(height='40px', width='45px'), s…"
      ]
     },
     "execution_count": 1,
     "metadata": {},
     "output_type": "execute_result"
    }
   ],
   "source": [
    "%reload_ext autoreload\n",
    "%autoreload 2\n",
    "from tomopyui.widgets.hdf_imports import HDF5_GeneralUploader\n",
    "uploader = HDF5_GeneralUploader() \n",
    "uploader.create_app()\n",
    "uploader.app"
   ]
  }
 ],
 "metadata": {
  "kernelspec": {
   "display_name": "Python 3 (ipykernel)",
   "language": "python",
   "name": "python3"
  },
  "language_info": {
   "codemirror_mode": {
    "name": "ipython",
    "version": 3
   },
   "file_extension": ".py",
   "mimetype": "text/x-python",
   "name": "python",
   "nbconvert_exporter": "python",
   "pygments_lexer": "ipython3",
   "version": "3.9.12"
  }
 },
 "nbformat": 4,
 "nbformat_minor": 5
}
