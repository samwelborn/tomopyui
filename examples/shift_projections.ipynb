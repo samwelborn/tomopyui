{
 "cells": [
  {
   "cell_type": "markdown",
   "id": "3741b4d0-81a1-4c0b-8503-b5b1240bc046",
   "metadata": {},
   "source": [
    "# Shift projections"
   ]
  },
  {
   "cell_type": "code",
   "execution_count": 4,
   "id": "272d263f-feb4-423f-a4b3-a719ea1d7f22",
   "metadata": {},
   "outputs": [
    {
     "data": {
      "application/vnd.jupyter.widget-view+json": {
       "model_id": "4af69b4703f04ba98206e13d5e71da7f",
       "version_major": 2,
       "version_minor": 0
      },
      "text/plain": [
       "VBox(children=(HBox(children=(VBox(children=(Label(value='Shifted High Energy Projections', style=LabelStyle(f…"
      ]
     },
     "execution_count": 4,
     "metadata": {},
     "output_type": "execute_result"
    }
   ],
   "source": [
    "%reload_ext autoreload\n",
    "%autoreload 2\n",
    "from tomopyui.widgets.tools import MultiEnergyAlignmentTool\n",
    "a = MultiEnergyAlignmentTool()\n",
    "a.create_app()\n",
    "a.app"
   ]
  }
 ],
 "metadata": {
  "kernelspec": {
   "display_name": "Python 3 (ipykernel)",
   "language": "python",
   "name": "python3"
  },
  "language_info": {
   "codemirror_mode": {
    "name": "ipython",
    "version": 3
   },
   "file_extension": ".py",
   "mimetype": "text/x-python",
   "name": "python",
   "nbconvert_exporter": "python",
   "pygments_lexer": "ipython3",
   "version": "3.9.12"
  }
 },
 "nbformat": 4,
 "nbformat_minor": 5
}
