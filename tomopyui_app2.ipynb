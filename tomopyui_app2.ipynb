{
 "cells": [
  {
   "cell_type": "code",
   "execution_count": 1,
   "id": "2ab4bfd4-e0b6-41f1-99b8-8b5a77fa0e29",
   "metadata": {
    "tags": []
   },
   "outputs": [
    {
     "data": {
      "application/vnd.jupyter.widget-view+json": {
       "model_id": "60f1d9db21074124abb634ce1a17d9e9",
       "version_major": 2,
       "version_minor": 0
      },
      "text/plain": [
       "Output()"
      ]
     },
     "execution_count": 1,
     "metadata": {},
     "output_type": "execute_result"
    }
   ],
   "source": [
    "%reload_ext autoreload\n",
    "%autoreload 2\n",
    "import tomopyui.widgets.main as main\n",
    "dashboard_output, dashboard, file_import, prep, center, align, recon, dataexplorer = main.create_dashboard(\"SSRL_62C\") # can be \"SSRL_62C\", \"ALS_832\", \"APS\"\n",
    "dashboard_output"
   ]
  },
  {
   "cell_type": "code",
   "execution_count": 9,
   "id": "ea29f292-6c29-4651-a02f-a664593ee919",
   "metadata": {},
   "outputs": [
    {
     "data": {
      "text/plain": [
       "h5py._hl.dataset.Dataset"
      ]
     },
     "execution_count": 9,
     "metadata": {},
     "output_type": "execute_result"
    }
   ],
   "source": [
    "type(file_import.projections.data)"
   ]
  },
  {
   "cell_type": "code",
   "execution_count": 4,
   "id": "cdf05c43-9306-4e26-8d30-1a1a659207c9",
   "metadata": {},
   "outputs": [],
   "source": [
    "import tomopyui.widgets.prep"
   ]
  },
  {
   "cell_type": "code",
   "execution_count": null,
   "id": "f7588770-2171-41e4-99d8-4e5f1ecdc1d1",
   "metadata": {},
   "outputs": [],
   "source": [
    "file_import.raw_uploader.projections.scan_info[\"PROJECTION_METADATA\"]"
   ]
  },
  {
   "cell_type": "code",
   "execution_count": 11,
   "id": "f6cd6668-3fa5-4e22-844e-ae3cf52e0fd7",
   "metadata": {},
   "outputs": [],
   "source": [
    "import tomopyui.backend.io\n",
    "import tomopyui.widgets.imports\n",
    "import tomopyui.widgets.view"
   ]
  },
  {
   "cell_type": "code",
   "execution_count": 7,
   "id": "ff8ba9ff-5618-4ee6-bcb3-e7e33328a6dc",
   "metadata": {},
   "outputs": [],
   "source": [
    "import tomopyui.backend.runanalysis\n",
    "import tomopyui.widgets.analysis\n",
    "import tomopyui.tomocupy.prep.alignment"
   ]
  },
  {
   "cell_type": "code",
   "execution_count": 22,
   "id": "2a0b76d4-3f32-4319-a222-9487fed7e21a",
   "metadata": {},
   "outputs": [
    {
     "data": {
      "text/plain": [
       "WindowsPath('D:/20220422_Welborn/fast_goodparticle_TOMO-XANES_220422_220825/08000.00eV')"
      ]
     },
     "execution_count": 22,
     "metadata": {},
     "output_type": "execute_result"
    }
   ],
   "source": [
    "file_import.raw_uploader.projections.filedir"
   ]
  },
  {
   "cell_type": "code",
   "execution_count": 53,
   "id": "29fe8ba0-20a3-48a4-b7ab-d48b424891a2",
   "metadata": {},
   "outputs": [
    {
     "data": {
      "text/plain": [
       "10"
      ]
     },
     "execution_count": 53,
     "metadata": {},
     "output_type": "execute_result"
    }
   ],
   "source": [
    "import dxchange.reader\n",
    "from tomopyui.backend.util.dxchange.reader import read_ole_metadata, read_xrm, read_txrm\n",
    "# file_import.raw_uploader.projections.read_xrms_metadata([r\"Y:\\202204\\20220422_Welborn\\13_5_1C_to4p5V_from_4_3time\\20220423_0109_ref_7817eV.xrm\"])\n",
    "x, y = read_txrm(r\"Y:\\202204\\20220422_Welborn\\13_5_1C_to4p5V_from_4_3time\\particle_below_above_in_middleofedge_TOMO-XANES_220423_141202\\ref_particle_below_above_in_middleofedge_idx00002_-180.00deg_07797.00eV_average010.txrm\")\n",
    "\n",
    "len(x)"
   ]
  },
  {
   "cell_type": "code",
   "execution_count": null,
   "id": "00f61d4d-6f54-4bb4-a2a0-74a9e782298b",
   "metadata": {},
   "outputs": [],
   "source": []
  }
 ],
 "metadata": {
  "kernelspec": {
   "display_name": "Python 3 (ipykernel)",
   "language": "python",
   "name": "python3"
  },
  "language_info": {
   "codemirror_mode": {
    "name": "ipython",
    "version": 3
   },
   "file_extension": ".py",
   "mimetype": "text/x-python",
   "name": "python",
   "nbconvert_exporter": "python",
   "pygments_lexer": "ipython3",
   "version": "3.9.10"
  }
 },
 "nbformat": 4,
 "nbformat_minor": 5
}
